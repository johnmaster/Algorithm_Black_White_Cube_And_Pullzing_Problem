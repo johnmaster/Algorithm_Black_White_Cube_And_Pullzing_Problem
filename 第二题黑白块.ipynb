{
 "cells": [
  {
   "cell_type": "markdown",
   "metadata": {
    "collapsed": false
   },
   "source": [
    "# A*算法中的黑白格问题"
   ]
  },
  {
   "cell_type": "code",
   "execution_count": 5,
   "metadata": {
    "collapsed": true
   },
   "outputs": [],
   "source": [
    "#   A*算法通过下面的来计算每个节点的优先级\n",
    "#           f(n) = g(n) + h(n)\n",
    "#   其中f(n)是节点n的综合优先级。当我们选择下一个要遍历的节点时，我们总会选择优先级最高(值最小)\n",
    "#   的节点\n",
    "#   g(n)是节点n距离起点的代价\n",
    "#   h(n)是节点n距离终点的预计代价，这也就是A*算法的启发函数。\n",
    "#   A*算法在运算过程中，每次从优先队列中选取f(n)值最小（优先级最高）的节点作为下一个待遍历的节点\n",
    "#   另外，A*算法使用两个集合来表示待遍历的节点，与已经遍历过的节点，这通常称为open_set和close_set\n",
    "\n",
    "\n",
    "#   A*算法描述如下\n",
    "#   初始化open_set和close_set\n",
    "#   将起点加入open_set中，并设置优先级为0（优先级最高）\n",
    "#   如果open_set不为空，则从open_set中选取优先级最高的节点n:\n",
    "#       如果节点n为终点，则：\n",
    "#           从终点开始逐步追踪parent节点，一直到达起点\n",
    "#           返回找到的结果路径，算法结束\n",
    "#       如果节点n不是终点，则：\n",
    "#           将节点n从open_set中删除，并加入close_set中\n",
    "#           遍历节点n的所有的邻近节点\n",
    "#                如果邻近节点m在close_set中，则：\n",
    "#                     跳过，选取下一个邻近节点\n",
    "#                如果邻近节点m也不在open_set中，则：\n",
    "#                     设置节点m的parent为节点n\n",
    "#                     计算节点m的优先级\n",
    "#                     将节点m加入open_set中\n",
    "\n",
    "\n",
    "#参考自 https://paul.pub/a-star-algorithm/"
   ]
  },
  {
   "cell_type": "markdown",
   "metadata": {},
   "source": [
    "# 黑白块问题描述"
   ]
  },
  {
   "cell_type": "code",
   "execution_count": null,
   "metadata": {
    "collapsed": true
   },
   "outputs": [],
   "source": [
    "#   一个具有如下初始结构的滑动积木游戏：其中B为黑色将牌（三个），W为白色将牌（三个），E为空格（1个），游戏规则如下：\n",
    "#                 B B B W W W E\n",
    "#   一个将牌以单位代价移入相邻的空格；\n",
    "#   一个将牌最多跳过其它两个将牌进入一个空格，代价等于跳过将牌的数量，最终的目标是使所有的白色将牌位于黑色将牌的左边（不考虑空格位置）。\n",
    "\n",
    "\n",
    "#   该问题具体分析：\n",
    "#   规定g(n)表示我当前移动所花费的代价\n",
    "#   规定f(n)表示每一个黑色块左方有几个白色块的数量\n",
    "#   当f(n)表示0时，表示白色块全部移动到了黑色块的左方，即程序终止"
   ]
  },
  {
   "cell_type": "code",
   "execution_count": 4,
   "metadata": {
    "collapsed": false
   },
   "outputs": [
    {
     "name": "stdout",
     "output_type": "stream",
     "text": [
      "['bbbwwwe', 'bbbwwew', 'bbewwbw', 'bbwewbw', 'bewbwbw', 'bwwbebw', 'bwwbwbe', 'bwwewbb', 'ewwbwbb', 'wewbwbb', 'wwwbebb']\n"
     ]
    }
   ],
   "source": [
    "already_visited = set()\n",
    "not_visited = set()\n",
    "\n",
    "def judge_visited(will_visit):\n",
    "    for i in already_visited:\n",
    "        temp = i[0]\n",
    "        if temp == will_visit:\n",
    "            return False\n",
    "    return True\n",
    "\n",
    "def evulation_function(temp_string):\n",
    "    temp_evula_func = 0\n",
    "    for i in range(len(temp_string)):\n",
    "        if temp_string[i] == 'b':\n",
    "            for j in range(i+1, len(temp_string)):\n",
    "                if temp_string[j] == 'w':\n",
    "                    temp_evula_func += 1\n",
    "    return temp_evula_func \n",
    "\n",
    "not_visited.add(('bbbwwwe', 0, 9, 9, 1, 0))\n",
    "ulti_route = []\n",
    "global gen_node\n",
    "gen_node = 1\n",
    "\n",
    "while not_visited:\n",
    "    flag_min = 99999\n",
    "    highest_priority = tuple()\n",
    "    for i in not_visited:\n",
    "        _, _, _, temp, _, _ = i\n",
    "        if temp < flag_min:\n",
    "            flag_min = temp\n",
    "            highest_priority = i\n",
    "    \n",
    "    temp_string, cost_value, evula_func, prior_value, cur_port, father = highest_priority\n",
    "    \n",
    "    temp_evula_func = evulation_function(temp_string)\n",
    "    \n",
    "    temp_father = father\n",
    "    if temp_evula_func == 0:\n",
    "        ulti_route.append(temp_string)\n",
    "        while already_visited:\n",
    "            for i in already_visited:\n",
    "                if i[1] == temp_father:\n",
    "                    ulti_route.append(i[0])\n",
    "                    temp_father = i[2]\n",
    "                    break\n",
    "            if temp_father == 0:\n",
    "                break\n",
    "        print(ulti_route[::-1])\n",
    "        break\n",
    "        \n",
    "    not_visited.remove(highest_priority)\n",
    "    already_visited.add((temp_string, cur_port, father))\n",
    "    \n",
    "    emp_location = temp_string.index('e')\n",
    "    for i in range(len(temp_string)):\n",
    "        if abs(i - emp_location) in [1, 2, 3]:\n",
    "            temp = list(temp_string)\n",
    "            temp[i], temp[emp_location] = temp[emp_location], temp[i]\n",
    "            temp = \"\".join(temp)\n",
    "            if not judge_visited(temp):\n",
    "                continue\n",
    "            else:\n",
    "                gen_node += 1\n",
    "                cur_evula_func = evulation_function(temp)\n",
    "                if abs(i - emp_location) == 2 or abs(i - emp_location) == 3:\n",
    "                    cur_cost_value = abs(i - emp_location) - 1\n",
    "                cur_prior_value = cur_evula_func + cur_cost_value\n",
    "                not_visited.add((temp, cur_cost_value, cur_evula_func, cur_prior_value, gen_node, cur_port))"
   ]
  },
  {
   "cell_type": "code",
   "execution_count": null,
   "metadata": {
    "collapsed": true
   },
   "outputs": [],
   "source": [
    "\n",
    "\n"
   ]
  }
 ],
 "metadata": {
  "anaconda-cloud": {},
  "kernelspec": {
   "display_name": "Python [conda root]",
   "language": "python",
   "name": "conda-root-py"
  },
  "language_info": {
   "codemirror_mode": {
    "name": "ipython",
    "version": 3
   },
   "file_extension": ".py",
   "mimetype": "text/x-python",
   "name": "python",
   "nbconvert_exporter": "python",
   "pygments_lexer": "ipython3",
   "version": "3.5.2"
  }
 },
 "nbformat": 4,
 "nbformat_minor": 1
}
